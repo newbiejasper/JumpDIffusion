{
 "cells": [
  {
   "cell_type": "code",
   "execution_count": 1,
   "metadata": {},
   "outputs": [
    {
     "name": "stderr",
     "output_type": "stream",
     "text": [
      "Loading required package: Matrix\n",
      "\n",
      "\n",
      "Attaching package: 'dplyr'\n",
      "\n",
      "\n",
      "The following objects are masked from 'package:stats':\n",
      "\n",
      "    filter, lag\n",
      "\n",
      "\n",
      "The following objects are masked from 'package:base':\n",
      "\n",
      "    intersect, setdiff, setequal, union\n",
      "\n",
      "\n"
     ]
    }
   ],
   "source": [
    "library(Seurat)\n",
    "library(phateR)\n",
    "library(dplyr)"
   ]
  },
  {
   "cell_type": "code",
   "execution_count": 2,
   "metadata": {},
   "outputs": [],
   "source": [
    "G1Cells <- read.table('./G1_singlecells_counts.txt',row.names = 1, header = TRUE)"
   ]
  },
  {
   "cell_type": "code",
   "execution_count": 3,
   "metadata": {},
   "outputs": [],
   "source": [
    "G2MCells <- read.table('./G2M_singlecells_counts.txt',row.names = 1, header = TRUE)"
   ]
  },
  {
   "cell_type": "code",
   "execution_count": 4,
   "metadata": {},
   "outputs": [],
   "source": [
    "SCells <- read.table('./S_singlecells_counts.txt',row.names = 1, header = TRUE)"
   ]
  },
  {
   "cell_type": "code",
   "execution_count": 5,
   "metadata": {},
   "outputs": [
    {
     "name": "stderr",
     "output_type": "stream",
     "text": [
      "Warning message:\n",
      "\"Feature names cannot have underscores ('_'), replacing with dashes ('-')\"\n"
     ]
    }
   ],
   "source": [
    "G1Cells_object <- CreateSeuratObject(counts = G1Cells,\n",
    "                                 project = 'G1',\n",
    "                                 min.cells = 10,\n",
    "                                 min.feature = 200)"
   ]
  },
  {
   "cell_type": "code",
   "execution_count": 6,
   "metadata": {},
   "outputs": [
    {
     "name": "stderr",
     "output_type": "stream",
     "text": [
      "Warning message:\n",
      "\"Feature names cannot have underscores ('_'), replacing with dashes ('-')\"\n"
     ]
    }
   ],
   "source": [
    "G2MCells_object <- CreateSeuratObject(counts = G2MCells,\n",
    "                                 project = 'G2M',\n",
    "                                 min.cells = 10,\n",
    "                                 min.feature = 200)"
   ]
  },
  {
   "cell_type": "code",
   "execution_count": 7,
   "metadata": {},
   "outputs": [
    {
     "name": "stderr",
     "output_type": "stream",
     "text": [
      "Warning message:\n",
      "\"Feature names cannot have underscores ('_'), replacing with dashes ('-')\"\n"
     ]
    }
   ],
   "source": [
    "SCells_object <- CreateSeuratObject(counts = SCells,\n",
    "                                 project = 'S',\n",
    "                                 min.cells = 10,\n",
    "                                 min.feature = 200)"
   ]
  },
  {
   "cell_type": "code",
   "execution_count": 8,
   "metadata": {},
   "outputs": [],
   "source": [
    "merged.data <- merge(x = G1Cells_object, y = c(G2MCells_object, SCells_object),\n",
    "                     add.cell.ids = c('G1', 'G2M', 'S'))"
   ]
  },
  {
   "cell_type": "code",
   "execution_count": 9,
   "metadata": {},
   "outputs": [
    {
     "data": {
      "text/plain": [
       "An object of class Seurat \n",
       "17154 features across 280 samples within 1 assay \n",
       "Active assay: RNA (17154 features, 0 variable features)"
      ]
     },
     "metadata": {},
     "output_type": "display_data"
    }
   ],
   "source": [
    "merged.data"
   ]
  },
  {
   "cell_type": "code",
   "execution_count": 10,
   "metadata": {},
   "outputs": [
    {
     "data": {
      "text/plain": [
       "\n",
       " G1 G2M   S \n",
       " 96  96  88 "
      ]
     },
     "metadata": {},
     "output_type": "display_data"
    }
   ],
   "source": [
    "table(merged.data@meta.data$orig.ident)"
   ]
  },
  {
   "cell_type": "code",
   "execution_count": 11,
   "metadata": {},
   "outputs": [],
   "source": [
    "merged.data <- NormalizeData(merged.data, normalization.method = \"LogNormalize\", scale.factor = 10000)"
   ]
  },
  {
   "cell_type": "code",
   "execution_count": 12,
   "metadata": {},
   "outputs": [
    {
     "name": "stderr",
     "output_type": "stream",
     "text": [
      "Warning message:\n",
      "\"Using `as.character()` on a quosure is deprecated as of rlang 0.3.0.\n",
      "Please use `as_label()` or `as_name()` instead.\n",
      "\u001b[90mThis warning is displayed once per session.\u001b[39m\"\n",
      "When using repel, set xnudge and ynudge to 0 for optimal results\n",
      "\n"
     ]
    },
    {
     "data": {
      "image/png": "[encoded data removed]",
      "text/plain": [
       "plot without title"
      ]
     },
     "metadata": {
      "image/png": {
       "height": 420,
       "width": 420
      }
     },
     "output_type": "display_data"
    }
   ],
   "source": [
    "merged.data <- FindVariableFeatures(merged.data, selection.method = \"vst\", nfeatures = 3000)\n",
    "# Identify the 10 most highly variable genes\n",
    "merged.datatop10 <- head(VariableFeatures(merged.data), 10)\n",
    "# plot variable features with and without labels\n",
    "merged.dataplot1 <- VariableFeaturePlot(merged.data)\n",
    "merged.dataplot2 <- LabelPoints(plot = merged.dataplot1, points = merged.datatop10, repel = TRUE)\n",
    "merged.dataplot2"
   ]
  },
  {
   "cell_type": "code",
   "execution_count": 13,
   "metadata": {},
   "outputs": [
    {
     "name": "stderr",
     "output_type": "stream",
     "text": [
      "Centering and scaling data matrix\n",
      "\n"
     ]
    }
   ],
   "source": [
    "merged.data <- ScaleData(merged.data, features = rownames(merged.data) ,vars.to.regress =  NULL)"
   ]
  },
  {
   "cell_type": "code",
   "execution_count": 14,
   "metadata": {},
   "outputs": [],
   "source": [
    "merged.data <- RunPCA(merged.data, features = VariableFeatures(object = merged.data), verbose=FALSE)"
   ]
  },
  {
   "cell_type": "code",
   "execution_count": 15,
   "metadata": {},
   "outputs": [
    {
     "data": {
      "image/png": "[encoded data removed]",
      "text/plain": [
       "plot without title"
      ]
     },
     "metadata": {
      "image/png": {
       "height": 420,
       "width": 420
      }
     },
     "output_type": "display_data"
    }
   ],
   "source": [
    "ElbowPlot(merged.data, ndims = 50)"
   ]
  },
  {
   "cell_type": "code",
   "execution_count": 16,
   "metadata": {
    "jupyter": {
     "outputs_hidden": true
    }
   },
   "outputs": [
    {
     "name": "stderr",
     "output_type": "stream",
     "text": [
      "Warning message:\n",
      "\"The following arguments are not used: n_neighbors\"\n",
      "Warning message:\n",
      "\"The default method for RunUMAP has changed from calling Python UMAP via reticulate to the R-native UWOT using the cosine metric\n",
      "To use Python UMAP via reticulate, set umap.method to 'umap-learn' and metric to 'correlation'\n",
      "This message will be shown once per session\"\n",
      "16:52:40 UMAP embedding parameters a = 0.9922 b = 1.112\n",
      "\n",
      "16:52:40 Read 280 rows and found 20 numeric columns\n",
      "\n",
      "16:52:40 Using Annoy for neighbor search, n_neighbors = 30\n",
      "\n",
      "16:52:40 Building Annoy index with metric = cosine, n_trees = 50\n",
      "\n",
      "0%   10   20   30   40   50   60   70   80   90   100%\n",
      "\n",
      "[----|----|----|----|----|----|----|----|----|----|\n",
      "\n",
      "*\n",
      "*\n",
      "*\n",
      "*\n",
      "*\n",
      "*\n",
      "*\n",
      "*\n",
      "*\n",
      "*\n",
      "*\n",
      "*\n",
      "*\n",
      "*\n",
      "*\n",
      "*\n",
      "*\n",
      "*\n",
      "*\n",
      "*\n",
      "*\n",
      "*\n",
      "*\n",
      "*\n",
      "*\n",
      "*\n",
      "*\n",
      "*\n",
      "*\n",
      "*\n",
      "*\n",
      "*\n",
      "*\n",
      "*\n",
      "*\n",
      "*\n",
      "*\n",
      "*\n",
      "*\n",
      "*\n",
      "*\n",
      "*\n",
      "*\n",
      "*\n",
      "*\n",
      "*\n",
      "*\n",
      "*\n",
      "*\n",
      "*\n",
      "|\n",
      "\n",
      "16:52:40 Writing NN index file to temp file C:\\Users\\gaojx\\AppData\\Local\\Temp\\Rtmp6FzcpX\\file8a03c495e7b\n",
      "\n",
      "16:52:40 Searching Annoy index using 1 thread, search_k = 3000\n",
      "\n",
      "16:52:40 Annoy recall = 100%\n",
      "\n",
      "16:52:40 Commencing smooth kNN distance calibration using 1 thread\n",
      "\n",
      "16:52:40 Initializing from normalized Laplacian + noise\n",
      "\n",
      "16:52:40 Commencing optimization for 500 epochs, with 10558 positive edges\n",
      "\n",
      "16:52:41 Optimization finished\n",
      "\n"
     ]
    }
   ],
   "source": [
    "merged.data <- RunUMAP(object = merged.data, dims=1:20, n_neighbors = 30,seed.use =1)"
   ]
  },
  {
   "cell_type": "code",
   "execution_count": 17,
   "metadata": {},
   "outputs": [],
   "source": [
    "options(repr.plot.width=5, repr.plot.height=5)\n",
    "colorvector <- c('#4575B4','#FDAE61','#A6D96A')\n",
    "names(colorvector) <- c('G1', 'G2M', 'S')"
   ]
  },
  {
   "cell_type": "code",
   "execution_count": 18,
   "metadata": {},
   "outputs": [
    {
     "data": {
      "image/png": "[encoded data removed]",
      "text/plain": [
       "plot without title"
      ]
     },
     "metadata": {
      "image/png": {
       "height": 300,
       "width": 300
      }
     },
     "output_type": "display_data"
    }
   ],
   "source": [
    "DimPlot(merged.data, reduction = \"umap\", label = FALSE, pt.size = 2,group.by='orig.ident',cols = colorvector) "
   ]
  },
  {
   "cell_type": "code",
   "execution_count": 19,
   "metadata": {},
   "outputs": [
    {
     "data": {
      "text/html": [
       "<strong>png:</strong> 2"
      ],
      "text/latex": [
       "\\textbf{png:} 2"
      ],
      "text/markdown": [
       "**png:** 2"
      ],
      "text/plain": [
       "png \n",
       "  2 "
      ]
     },
     "metadata": {},
     "output_type": "display_data"
    }
   ],
   "source": [
    "pdf(file = './groundtruth.pdf', width = 3.5, height = 3.5)\n",
    "DimPlot(merged.data, reduction = \"umap\", label = TRUE, pt.size = 2,group.by='orig.ident',cols = colorvector, label.size = 10) + NoLegend()\n",
    "dev.off()"
   ]
  },
  {
   "cell_type": "markdown",
   "metadata": {},
   "source": [
    "# 使用phateR降维"
   ]
  },
  {
   "cell_type": "code",
   "execution_count": 20,
   "metadata": {},
   "outputs": [],
   "source": [
    "phate.merged.data <- phate(subset(GetAssayData(object = merged.data, slot = \"scale.data\"),\n",
    "                         rownames(GetAssayData(object = merged.data, slot = \"scale.data\"))%in%VariableFeatures(object = merged.data))%>%t(),\n",
    "                              knn = 30,\n",
    "                              npca=20,\n",
    "                              t=10,\n",
    "                              ndim=2)"
   ]
  },
  {
   "cell_type": "code",
   "execution_count": 21,
   "metadata": {},
   "outputs": [],
   "source": [
    "layout <- as.data.frame(phate.merged.data$embedding)"
   ]
  },
  {
   "cell_type": "code",
   "execution_count": 22,
   "metadata": {},
   "outputs": [],
   "source": [
    "colnames(layout) <- c('UMAP_1','UMAP_2')"
   ]
  },
  {
   "cell_type": "code",
   "execution_count": 23,
   "metadata": {},
   "outputs": [
    {
     "data": {
      "text/html": [
       "<table>\n",
       "<caption>A data.frame: 6 × 2</caption>\n",
       "<thead>\n",
       "\t<tr><th></th><th scope=col>UMAP_1</th><th scope=col>UMAP_2</th></tr>\n",
       "\t<tr><th></th><th scope=col>&lt;dbl&gt;</th><th scope=col>&lt;dbl&gt;</th></tr>\n",
       "</thead>\n",
       "<tbody>\n",
       "\t<tr><th scope=row>G1_G1_cell1_count</th><td>-0.05427434</td><td>-0.03743599</td></tr>\n",
       "\t<tr><th scope=row>G1_G1_cell2_count</th><td>-0.04757537</td><td>-0.04189037</td></tr>\n",
       "\t<tr><th scope=row>G1_G1_cell3_count</th><td>-0.03472061</td><td>-0.04971425</td></tr>\n",
       "\t<tr><th scope=row>G1_G1_cell4_count</th><td>-0.06066909</td><td>-0.03739166</td></tr>\n",
       "\t<tr><th scope=row>G1_G1_cell5_count</th><td>-0.06066176</td><td>-0.03375028</td></tr>\n",
       "\t<tr><th scope=row>G1_G1_cell6_count</th><td>-0.01881762</td><td>-0.04394962</td></tr>\n",
       "</tbody>\n",
       "</table>\n"
      ],
      "text/latex": [
       "A data.frame: 6 × 2\n",
       "\\begin{tabular}{r|ll}\n",
       "  & UMAP\\_1 & UMAP\\_2\\\\\n",
       "  & <dbl> & <dbl>\\\\\n",
       "\\hline\n",
       "\tG1\\_G1\\_cell1\\_count & -0.05427434 & -0.03743599\\\\\n",
       "\tG1\\_G1\\_cell2\\_count & -0.04757537 & -0.04189037\\\\\n",
       "\tG1\\_G1\\_cell3\\_count & -0.03472061 & -0.04971425\\\\\n",
       "\tG1\\_G1\\_cell4\\_count & -0.06066909 & -0.03739166\\\\\n",
       "\tG1\\_G1\\_cell5\\_count & -0.06066176 & -0.03375028\\\\\n",
       "\tG1\\_G1\\_cell6\\_count & -0.01881762 & -0.04394962\\\\\n",
       "\\end{tabular}\n"
      ],
      "text/markdown": [
       "\n",
       "A data.frame: 6 × 2\n",
       "\n",
       "| <!--/--> | UMAP_1 &lt;dbl&gt; | UMAP_2 &lt;dbl&gt; |\n",
       "|---|---|---|\n",
       "| G1_G1_cell1_count | -0.05427434 | -0.03743599 |\n",
       "| G1_G1_cell2_count | -0.04757537 | -0.04189037 |\n",
       "| G1_G1_cell3_count | -0.03472061 | -0.04971425 |\n",
       "| G1_G1_cell4_count | -0.06066909 | -0.03739166 |\n",
       "| G1_G1_cell5_count | -0.06066176 | -0.03375028 |\n",
       "| G1_G1_cell6_count | -0.01881762 | -0.04394962 |\n",
       "\n"
      ],
      "text/plain": [
       "                  UMAP_1      UMAP_2     \n",
       "G1_G1_cell1_count -0.05427434 -0.03743599\n",
       "G1_G1_cell2_count -0.04757537 -0.04189037\n",
       "G1_G1_cell3_count -0.03472061 -0.04971425\n",
       "G1_G1_cell4_count -0.06066909 -0.03739166\n",
       "G1_G1_cell5_count -0.06066176 -0.03375028\n",
       "G1_G1_cell6_count -0.01881762 -0.04394962"
      ]
     },
     "metadata": {},
     "output_type": "display_data"
    }
   ],
   "source": [
    "head(layout)"
   ]
  },
  {
   "cell_type": "code",
   "execution_count": 24,
   "metadata": {},
   "outputs": [],
   "source": [
    "merged.data@reductions$umap@cell.embeddings <- as.matrix(layout)"
   ]
  },
  {
   "cell_type": "code",
   "execution_count": 25,
   "metadata": {},
   "outputs": [
    {
     "data": {
      "image/png": "[encoded data removed]",
      "text/plain": [
       "plot without title"
      ]
     },
     "metadata": {
      "image/png": {
       "height": 300,
       "width": 300
      }
     },
     "output_type": "display_data"
    }
   ],
   "source": [
    "DimPlot(merged.data, reduction = \"umap\", label = TRUE, pt.size = 2,group.by='orig.ident',cols = colorvector) +NoLegend()"
   ]
  },
  {
   "cell_type": "code",
   "execution_count": null,
   "metadata": {},
   "outputs": [],
   "source": []
  }
 ],
 "metadata": {
  "kernelspec": {
   "display_name": "R-4.0.3",
   "language": "R",
   "name": "ir"
  },
  "language_info": {
   "codemirror_mode": "r",
   "file_extension": ".r",
   "mimetype": "text/x-r-source",
   "name": "R",
   "pygments_lexer": "r",
   "version": "4.0.3"
  }
 },
 "nbformat": 4,
 "nbformat_minor": 4
}
